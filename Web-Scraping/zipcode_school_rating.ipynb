{
 "cells": [
  {
   "cell_type": "code",
   "execution_count": 2,
   "metadata": {
    "collapsed": false
   },
   "outputs": [],
   "source": [
    "import pandas as pd\n",
    "import numpy as np\n",
    "\n",
    "portland_e = pd.read_csv('Portland_elementary_school.csv')\n",
    "portland_e['zipcode'] = portland_e['address'].str.split(' ')\n",
    "portland_e['zipcode'] = map(lambda L: L[-1],portland_e['zipcode'])\n",
    "port_e = map(lambda x,y:[x,y],portland_e.zipcode,portland_e.rating)\n",
    "port_e = pd.DataFrame(port_e, columns=['zipcode','elementary_rating'])\n",
    "\n",
    "portland_m = pd.read_csv('Portland_middle_school.csv')\n",
    "portland_m['zipcode'] = portland_m['address'].str.split(' ')\n",
    "portland_m['zipcode'] = map(lambda L: L[-1],portland_m['zipcode'])\n",
    "port_m = map(lambda x,y:[x,y],portland_m.zipcode,portland_m.rating)\n",
    "port_m = pd.DataFrame(port_m, columns=['zipcode','middle_rating'])\n",
    "\n",
    "portland_h = pd.read_csv('Portland_school_high.csv')\n",
    "portland_h['zipcode'] = portland_h['address'].str.split(' ')\n",
    "portland_h['zipcode'] = map(lambda L: L[-1],portland_h['zipcode'])\n",
    "port_h = map(lambda x,y:[x,y],portland_h.zipcode,portland_h.rating)\n",
    "port_h = pd.DataFrame(port_h, columns=['zipcode','high_rating'])\n",
    "\n",
    "\n",
    "vancouver_e = pd.read_csv('Vancouver_elementary_school.csv')\n",
    "vancouver_e['zipcode'] = vancouver_e['address'].str.split(' ')\n",
    "vancouver_e['zipcode'] = map(lambda L: L[-1],vancouver_e['zipcode'])\n",
    "vanc_e = map(lambda x,y:[x,y],vancouver_e.zipcode,vancouver_e.rating)\n",
    "vanc_e = pd.DataFrame(vanc_e, columns=['zipcode','elementary_rating'])\n",
    "\n",
    "vancouver_m = pd.read_csv('Vancouver_school_middle.csv')\n",
    "vancouver_m['zipcode'] = vancouver_m['address'].str.split(' ')\n",
    "vancouver_m['zipcode'] = map(lambda L: L[-1],vancouver_m['zipcode'])\n",
    "vanc_m = map(lambda x,y:[x,y],vancouver_m.zipcode,vancouver_m.rating)\n",
    "vanc_m = pd.DataFrame(vanc_m, columns=['zipcode','middle_rating'])\n",
    "\n",
    "vancouver_h = pd.read_csv('Vancouver_school_high.csv')\n",
    "vancouver_h['zipcode'] = vancouver_h['address'].str.split(' ')\n",
    "vancouver_h['zipcode'] = map(lambda L: L[-1],vancouver_h['zipcode'])\n",
    "vanc_h = map(lambda x,y:[x,y],vancouver_h.zipcode,vancouver_h.rating)\n",
    "vanc_h = pd.DataFrame(vanc_h, columns=['zipcode','high_rating'])"
   ]
  },
  {
   "cell_type": "code",
   "execution_count": 3,
   "metadata": {
    "collapsed": false
   },
   "outputs": [
    {
     "name": "stdout",
     "output_type": "stream",
     "text": [
      "105 59 256\n",
      "  zipcode  elementary_rating  middle_rating\n",
      "0   97229                 10           10.0\n",
      "1   97229                 10            9.0\n",
      "2   97229                 10           10.0\n",
      "3   97229                 10            9.0\n",
      "4   97229                 10           10.0\n",
      "5   97229                 10            9.0\n",
      "6   97229                 10           10.0\n",
      "7   97229                 10            9.0\n",
      "8   97229                 10           10.0\n",
      "9   97229                 10            9.0\n"
     ]
    }
   ],
   "source": [
    "port_em = pd.merge(port_e, port_m, how ='outer', on= 'zipcode')\n",
    "vanc_em = pd.merge(vanc_e, vanc_m, how ='outer', on= 'zipcode')\n",
    "print len(port_e), len(port_m), len(port_em)\n",
    "print port_em.head(10)"
   ]
  },
  {
   "cell_type": "code",
   "execution_count": 4,
   "metadata": {
    "collapsed": false
   },
   "outputs": [
    {
     "name": "stdout",
     "output_type": "stream",
     "text": [
      "443\n"
     ]
    }
   ],
   "source": [
    "port = pd.merge(port_em, port_h, how='outer', on='zipcode')\n",
    "port['city']='Portland'\n",
    "vanc = pd.merge(vanc_em, vanc_h, how='outer', on='zipcode')\n",
    "vanc['city']='Vancouver'\n",
    "cama = {'zipcode': [98607],\n",
    "         'elementary_rating':[10],\n",
    "         'middle_rating':[9],\n",
    "         'high_rating':[8]\n",
    "        }\n",
    "#camas = pd.DataFrame(cama)\n",
    "camas = pd.DataFrame.from_dict(cama)\n",
    "camas['city']='Vancouver'\n",
    "\n",
    "\n",
    "school = pd.concat([port,vanc,camas], axis = 0)\n",
    "print len(school)"
   ]
  },
  {
   "cell_type": "code",
   "execution_count": 16,
   "metadata": {
    "collapsed": false
   },
   "outputs": [
    {
     "name": "stdout",
     "output_type": "stream",
     "text": [
      "315\n",
      "<class 'pandas.core.frame.DataFrame'>\n",
      "[<type 'str'>, <type 'str'>, <type 'str'>, <type 'str'>, <type 'str'>]\n",
      "315\n"
     ]
    }
   ],
   "source": [
    "#print port\n",
    "print len(school)\n",
    "print type(school)\n",
    "print map(type,school)\n",
    "school = school.dropna()\n",
    "print len(school)"
   ]
  },
  {
   "cell_type": "code",
   "execution_count": 17,
   "metadata": {
    "collapsed": false
   },
   "outputs": [
    {
     "name": "stdout",
     "output_type": "stream",
     "text": [
      "          city  elementary_rating  high_rating  middle_rating zipcode\n",
      "0     Portland               10.0          9.0           10.0   97229\n",
      "1     Portland               10.0          8.0           10.0   97229\n",
      "2     Portland               10.0          9.0            9.0   97229\n",
      "3     Portland               10.0          8.0            9.0   97229\n",
      "4     Portland               10.0          9.0           10.0   97229\n",
      "5     Portland               10.0          8.0           10.0   97229\n",
      "6     Portland               10.0          9.0            9.0   97229\n",
      "7     Portland               10.0          8.0            9.0   97229\n",
      "8     Portland               10.0          9.0           10.0   97229\n",
      "9     Portland               10.0          8.0           10.0   97229\n",
      "10    Portland               10.0          9.0            9.0   97229\n",
      "11    Portland               10.0          8.0            9.0   97229\n",
      "12    Portland               10.0          9.0           10.0   97229\n",
      "13    Portland               10.0          8.0           10.0   97229\n",
      "14    Portland               10.0          9.0            9.0   97229\n",
      "15    Portland               10.0          8.0            9.0   97229\n",
      "16    Portland               10.0          9.0           10.0   97229\n",
      "17    Portland               10.0          8.0           10.0   97229\n",
      "18    Portland               10.0          9.0            9.0   97229\n",
      "19    Portland               10.0          8.0            9.0   97229\n",
      "20    Portland                9.0          9.0           10.0   97229\n",
      "21    Portland                9.0          8.0           10.0   97229\n",
      "22    Portland                9.0          9.0            9.0   97229\n",
      "23    Portland                9.0          8.0            9.0   97229\n",
      "24    Portland                9.0          9.0           10.0   97229\n",
      "25    Portland                9.0          8.0           10.0   97229\n",
      "26    Portland                9.0          9.0            9.0   97229\n",
      "27    Portland                9.0          8.0            9.0   97229\n",
      "28    Portland                8.0          9.0           10.0   97229\n",
      "29    Portland                8.0          8.0           10.0   97229\n",
      "..         ...                ...          ...            ...     ...\n",
      "67   Vancouver                3.0          3.0            2.0   98661\n",
      "68   Vancouver                6.0          8.0            8.0   98686\n",
      "69   Vancouver                6.0          8.0            7.0   98686\n",
      "70   Vancouver                5.0          8.0            8.0   98686\n",
      "71   Vancouver                5.0          8.0            7.0   98686\n",
      "72   Vancouver                6.0          4.0            5.0   98682\n",
      "73   Vancouver                6.0          4.0            5.0   98682\n",
      "74   Vancouver                6.0          4.0            5.0   98682\n",
      "75   Vancouver                3.0          4.0            5.0   98682\n",
      "76   Vancouver                3.0          4.0            5.0   98682\n",
      "77   Vancouver                3.0          4.0            5.0   98682\n",
      "78   Vancouver                6.0         10.0           10.0   98663\n",
      "79   Vancouver                6.0          3.0           10.0   98663\n",
      "80   Vancouver                6.0         10.0            2.0   98663\n",
      "81   Vancouver                6.0          3.0            2.0   98663\n",
      "82   Vancouver                4.0         10.0           10.0   98663\n",
      "83   Vancouver                4.0          3.0           10.0   98663\n",
      "84   Vancouver                4.0         10.0            2.0   98663\n",
      "85   Vancouver                4.0          3.0            2.0   98663\n",
      "86   Vancouver                3.0         10.0           10.0   98663\n",
      "87   Vancouver                3.0          3.0           10.0   98663\n",
      "88   Vancouver                3.0         10.0            2.0   98663\n",
      "89   Vancouver                3.0          3.0            2.0   98663\n",
      "100  Vancouver                5.0          7.0            2.0   98664\n",
      "101  Vancouver                5.0          2.0            2.0   98664\n",
      "102  Vancouver                3.0          7.0            2.0   98664\n",
      "103  Vancouver                3.0          2.0            2.0   98664\n",
      "104  Vancouver                2.0          7.0            2.0   98664\n",
      "105  Vancouver                2.0          2.0            2.0   98664\n",
      "0    Vancouver               10.0          8.0            9.0   98607\n",
      "\n",
      "[315 rows x 5 columns]\n"
     ]
    }
   ],
   "source": [
    "print school"
   ]
  },
  {
   "cell_type": "code",
   "execution_count": 20,
   "metadata": {
    "collapsed": false
   },
   "outputs": [
    {
     "data": {
      "text/html": [
       "<div>\n",
       "<table border=\"1\" class=\"dataframe\">\n",
       "  <thead>\n",
       "    <tr style=\"text-align: right;\">\n",
       "      <th></th>\n",
       "      <th>zipcode</th>\n",
       "      <th>elementary_rating</th>\n",
       "      <th>middle_rating</th>\n",
       "      <th>high_rating</th>\n",
       "    </tr>\n",
       "  </thead>\n",
       "  <tbody>\n",
       "    <tr>\n",
       "      <th>0</th>\n",
       "      <td>98607</td>\n",
       "      <td>10.000000</td>\n",
       "      <td>9.000000</td>\n",
       "      <td>8.0</td>\n",
       "    </tr>\n",
       "    <tr>\n",
       "      <th>1</th>\n",
       "      <td>97202</td>\n",
       "      <td>9.000000</td>\n",
       "      <td>9.500000</td>\n",
       "      <td>6.0</td>\n",
       "    </tr>\n",
       "    <tr>\n",
       "      <th>2</th>\n",
       "      <td>97206</td>\n",
       "      <td>5.750000</td>\n",
       "      <td>4.500000</td>\n",
       "      <td>6.0</td>\n",
       "    </tr>\n",
       "    <tr>\n",
       "      <th>3</th>\n",
       "      <td>97212</td>\n",
       "      <td>8.750000</td>\n",
       "      <td>8.250000</td>\n",
       "      <td>7.0</td>\n",
       "    </tr>\n",
       "    <tr>\n",
       "      <th>4</th>\n",
       "      <td>97214</td>\n",
       "      <td>9.000000</td>\n",
       "      <td>8.000000</td>\n",
       "      <td>5.0</td>\n",
       "    </tr>\n",
       "    <tr>\n",
       "      <th>5</th>\n",
       "      <td>97217</td>\n",
       "      <td>4.800000</td>\n",
       "      <td>4.500000</td>\n",
       "      <td>4.0</td>\n",
       "    </tr>\n",
       "    <tr>\n",
       "      <th>6</th>\n",
       "      <td>97219</td>\n",
       "      <td>9.000000</td>\n",
       "      <td>9.500000</td>\n",
       "      <td>8.5</td>\n",
       "    </tr>\n",
       "    <tr>\n",
       "      <th>7</th>\n",
       "      <td>97220</td>\n",
       "      <td>4.000000</td>\n",
       "      <td>3.333333</td>\n",
       "      <td>4.5</td>\n",
       "    </tr>\n",
       "    <tr>\n",
       "      <th>8</th>\n",
       "      <td>97229</td>\n",
       "      <td>9.500000</td>\n",
       "      <td>9.500000</td>\n",
       "      <td>8.5</td>\n",
       "    </tr>\n",
       "    <tr>\n",
       "      <th>9</th>\n",
       "      <td>97232</td>\n",
       "      <td>10.000000</td>\n",
       "      <td>9.500000</td>\n",
       "      <td>4.0</td>\n",
       "    </tr>\n",
       "    <tr>\n",
       "      <th>10</th>\n",
       "      <td>97233</td>\n",
       "      <td>2.500000</td>\n",
       "      <td>1.000000</td>\n",
       "      <td>2.5</td>\n",
       "    </tr>\n",
       "    <tr>\n",
       "      <th>11</th>\n",
       "      <td>98661</td>\n",
       "      <td>4.333333</td>\n",
       "      <td>2.000000</td>\n",
       "      <td>3.0</td>\n",
       "    </tr>\n",
       "    <tr>\n",
       "      <th>12</th>\n",
       "      <td>98663</td>\n",
       "      <td>4.333333</td>\n",
       "      <td>6.000000</td>\n",
       "      <td>6.5</td>\n",
       "    </tr>\n",
       "    <tr>\n",
       "      <th>13</th>\n",
       "      <td>98664</td>\n",
       "      <td>3.333333</td>\n",
       "      <td>2.000000</td>\n",
       "      <td>4.5</td>\n",
       "    </tr>\n",
       "    <tr>\n",
       "      <th>14</th>\n",
       "      <td>98665</td>\n",
       "      <td>6.333333</td>\n",
       "      <td>5.000000</td>\n",
       "      <td>8.0</td>\n",
       "    </tr>\n",
       "    <tr>\n",
       "      <th>15</th>\n",
       "      <td>98682</td>\n",
       "      <td>4.500000</td>\n",
       "      <td>5.000000</td>\n",
       "      <td>4.0</td>\n",
       "    </tr>\n",
       "    <tr>\n",
       "      <th>16</th>\n",
       "      <td>98683</td>\n",
       "      <td>6.666667</td>\n",
       "      <td>6.000000</td>\n",
       "      <td>8.0</td>\n",
       "    </tr>\n",
       "    <tr>\n",
       "      <th>17</th>\n",
       "      <td>98684</td>\n",
       "      <td>5.142857</td>\n",
       "      <td>4.000000</td>\n",
       "      <td>3.5</td>\n",
       "    </tr>\n",
       "    <tr>\n",
       "      <th>18</th>\n",
       "      <td>98685</td>\n",
       "      <td>7.500000</td>\n",
       "      <td>7.000000</td>\n",
       "      <td>5.0</td>\n",
       "    </tr>\n",
       "    <tr>\n",
       "      <th>19</th>\n",
       "      <td>98686</td>\n",
       "      <td>5.500000</td>\n",
       "      <td>7.500000</td>\n",
       "      <td>8.0</td>\n",
       "    </tr>\n",
       "  </tbody>\n",
       "</table>\n",
       "</div>"
      ],
      "text/plain": [
       "   zipcode  elementary_rating  middle_rating  high_rating\n",
       "0    98607          10.000000       9.000000          8.0\n",
       "1    97202           9.000000       9.500000          6.0\n",
       "2    97206           5.750000       4.500000          6.0\n",
       "3    97212           8.750000       8.250000          7.0\n",
       "4    97214           9.000000       8.000000          5.0\n",
       "5    97217           4.800000       4.500000          4.0\n",
       "6    97219           9.000000       9.500000          8.5\n",
       "7    97220           4.000000       3.333333          4.5\n",
       "8    97229           9.500000       9.500000          8.5\n",
       "9    97232          10.000000       9.500000          4.0\n",
       "10   97233           2.500000       1.000000          2.5\n",
       "11   98661           4.333333       2.000000          3.0\n",
       "12   98663           4.333333       6.000000          6.5\n",
       "13   98664           3.333333       2.000000          4.5\n",
       "14   98665           6.333333       5.000000          8.0\n",
       "15   98682           4.500000       5.000000          4.0\n",
       "16   98683           6.666667       6.000000          8.0\n",
       "17   98684           5.142857       4.000000          3.5\n",
       "18   98685           7.500000       7.000000          5.0\n",
       "19   98686           5.500000       7.500000          8.0"
      ]
     },
     "execution_count": 20,
     "metadata": {},
     "output_type": "execute_result"
    }
   ],
   "source": [
    "# reorganize the dataframe of school.\n",
    "school_g = school.groupby(['zipcode']).mean()                         \n",
    "school_g['zipcode'] = school_g.index\n",
    "school_g.index = range(len(school_g))\n",
    "school_g = school_g[['zipcode','elementary_rating','middle_rating','high_rating']]\n",
    "school_g"
   ]
  },
  {
   "cell_type": "code",
   "execution_count": null,
   "metadata": {
    "collapsed": true
   },
   "outputs": [],
   "source": []
  },
  {
   "cell_type": "code",
   "execution_count": null,
   "metadata": {
    "collapsed": false
   },
   "outputs": [],
   "source": []
  },
  {
   "cell_type": "code",
   "execution_count": 53,
   "metadata": {
    "collapsed": false
   },
   "outputs": [
    {
     "name": "stdout",
     "output_type": "stream",
     "text": [
      "98607\n",
      "Portland OR\n"
     ]
    },
    {
     "data": {
      "text/html": [
       "<div>\n",
       "<table border=\"1\" class=\"dataframe\">\n",
       "  <thead>\n",
       "    <tr style=\"text-align: right;\">\n",
       "      <th></th>\n",
       "      <th>zipcode</th>\n",
       "      <th>elementary_rating</th>\n",
       "      <th>middle_rating</th>\n",
       "      <th>high_rating</th>\n",
       "      <th>city</th>\n",
       "    </tr>\n",
       "  </thead>\n",
       "  <tbody>\n",
       "    <tr>\n",
       "      <th>0</th>\n",
       "      <td>98607</td>\n",
       "      <td>10.000000</td>\n",
       "      <td>9.000000</td>\n",
       "      <td>8.0</td>\n",
       "      <td>Vancouver WA</td>\n",
       "    </tr>\n",
       "    <tr>\n",
       "      <th>1</th>\n",
       "      <td>97202</td>\n",
       "      <td>9.000000</td>\n",
       "      <td>9.500000</td>\n",
       "      <td>6.0</td>\n",
       "      <td>Portland OR</td>\n",
       "    </tr>\n",
       "    <tr>\n",
       "      <th>2</th>\n",
       "      <td>97206</td>\n",
       "      <td>5.750000</td>\n",
       "      <td>4.500000</td>\n",
       "      <td>6.0</td>\n",
       "      <td>Portland OR</td>\n",
       "    </tr>\n",
       "    <tr>\n",
       "      <th>3</th>\n",
       "      <td>97212</td>\n",
       "      <td>8.750000</td>\n",
       "      <td>8.250000</td>\n",
       "      <td>7.0</td>\n",
       "      <td>Portland OR</td>\n",
       "    </tr>\n",
       "    <tr>\n",
       "      <th>4</th>\n",
       "      <td>97214</td>\n",
       "      <td>9.000000</td>\n",
       "      <td>8.000000</td>\n",
       "      <td>5.0</td>\n",
       "      <td>Portland OR</td>\n",
       "    </tr>\n",
       "    <tr>\n",
       "      <th>5</th>\n",
       "      <td>97217</td>\n",
       "      <td>4.800000</td>\n",
       "      <td>4.500000</td>\n",
       "      <td>4.0</td>\n",
       "      <td>Portland OR</td>\n",
       "    </tr>\n",
       "    <tr>\n",
       "      <th>6</th>\n",
       "      <td>97219</td>\n",
       "      <td>9.000000</td>\n",
       "      <td>9.500000</td>\n",
       "      <td>8.5</td>\n",
       "      <td>Portland OR</td>\n",
       "    </tr>\n",
       "    <tr>\n",
       "      <th>7</th>\n",
       "      <td>97220</td>\n",
       "      <td>4.000000</td>\n",
       "      <td>3.333333</td>\n",
       "      <td>4.5</td>\n",
       "      <td>Portland OR</td>\n",
       "    </tr>\n",
       "    <tr>\n",
       "      <th>8</th>\n",
       "      <td>97229</td>\n",
       "      <td>9.500000</td>\n",
       "      <td>9.500000</td>\n",
       "      <td>8.5</td>\n",
       "      <td>Portland OR</td>\n",
       "    </tr>\n",
       "    <tr>\n",
       "      <th>9</th>\n",
       "      <td>97232</td>\n",
       "      <td>10.000000</td>\n",
       "      <td>9.500000</td>\n",
       "      <td>4.0</td>\n",
       "      <td>Portland OR</td>\n",
       "    </tr>\n",
       "    <tr>\n",
       "      <th>10</th>\n",
       "      <td>97233</td>\n",
       "      <td>2.500000</td>\n",
       "      <td>1.000000</td>\n",
       "      <td>2.5</td>\n",
       "      <td>Portland OR</td>\n",
       "    </tr>\n",
       "    <tr>\n",
       "      <th>11</th>\n",
       "      <td>98661</td>\n",
       "      <td>4.333333</td>\n",
       "      <td>2.000000</td>\n",
       "      <td>3.0</td>\n",
       "      <td>Vancouver WA</td>\n",
       "    </tr>\n",
       "    <tr>\n",
       "      <th>12</th>\n",
       "      <td>98663</td>\n",
       "      <td>4.333333</td>\n",
       "      <td>6.000000</td>\n",
       "      <td>6.5</td>\n",
       "      <td>Vancouver WA</td>\n",
       "    </tr>\n",
       "    <tr>\n",
       "      <th>13</th>\n",
       "      <td>98664</td>\n",
       "      <td>3.333333</td>\n",
       "      <td>2.000000</td>\n",
       "      <td>4.5</td>\n",
       "      <td>Vancouver WA</td>\n",
       "    </tr>\n",
       "    <tr>\n",
       "      <th>14</th>\n",
       "      <td>98665</td>\n",
       "      <td>6.333333</td>\n",
       "      <td>5.000000</td>\n",
       "      <td>8.0</td>\n",
       "      <td>Vancouver WA</td>\n",
       "    </tr>\n",
       "    <tr>\n",
       "      <th>15</th>\n",
       "      <td>98682</td>\n",
       "      <td>4.500000</td>\n",
       "      <td>5.000000</td>\n",
       "      <td>4.0</td>\n",
       "      <td>Vancouver WA</td>\n",
       "    </tr>\n",
       "    <tr>\n",
       "      <th>16</th>\n",
       "      <td>98683</td>\n",
       "      <td>6.666667</td>\n",
       "      <td>6.000000</td>\n",
       "      <td>8.0</td>\n",
       "      <td>Vancouver WA</td>\n",
       "    </tr>\n",
       "    <tr>\n",
       "      <th>17</th>\n",
       "      <td>98684</td>\n",
       "      <td>5.142857</td>\n",
       "      <td>4.000000</td>\n",
       "      <td>3.5</td>\n",
       "      <td>Vancouver WA</td>\n",
       "    </tr>\n",
       "    <tr>\n",
       "      <th>18</th>\n",
       "      <td>98685</td>\n",
       "      <td>7.500000</td>\n",
       "      <td>7.000000</td>\n",
       "      <td>5.0</td>\n",
       "      <td>Vancouver WA</td>\n",
       "    </tr>\n",
       "    <tr>\n",
       "      <th>19</th>\n",
       "      <td>98686</td>\n",
       "      <td>5.500000</td>\n",
       "      <td>7.500000</td>\n",
       "      <td>8.0</td>\n",
       "      <td>Vancouver WA</td>\n",
       "    </tr>\n",
       "  </tbody>\n",
       "</table>\n",
       "</div>"
      ],
      "text/plain": [
       "   zipcode  elementary_rating  middle_rating  high_rating          city\n",
       "0    98607          10.000000       9.000000          8.0  Vancouver WA\n",
       "1    97202           9.000000       9.500000          6.0   Portland OR\n",
       "2    97206           5.750000       4.500000          6.0   Portland OR\n",
       "3    97212           8.750000       8.250000          7.0   Portland OR\n",
       "4    97214           9.000000       8.000000          5.0   Portland OR\n",
       "5    97217           4.800000       4.500000          4.0   Portland OR\n",
       "6    97219           9.000000       9.500000          8.5   Portland OR\n",
       "7    97220           4.000000       3.333333          4.5   Portland OR\n",
       "8    97229           9.500000       9.500000          8.5   Portland OR\n",
       "9    97232          10.000000       9.500000          4.0   Portland OR\n",
       "10   97233           2.500000       1.000000          2.5   Portland OR\n",
       "11   98661           4.333333       2.000000          3.0  Vancouver WA\n",
       "12   98663           4.333333       6.000000          6.5  Vancouver WA\n",
       "13   98664           3.333333       2.000000          4.5  Vancouver WA\n",
       "14   98665           6.333333       5.000000          8.0  Vancouver WA\n",
       "15   98682           4.500000       5.000000          4.0  Vancouver WA\n",
       "16   98683           6.666667       6.000000          8.0  Vancouver WA\n",
       "17   98684           5.142857       4.000000          3.5  Vancouver WA\n",
       "18   98685           7.500000       7.000000          5.0  Vancouver WA\n",
       "19   98686           5.500000       7.500000          8.0  Vancouver WA"
      ]
     },
     "execution_count": 53,
     "metadata": {},
     "output_type": "execute_result"
    }
   ],
   "source": [
    "#print school_g.keys()\n",
    "\n",
    "\n",
    "def city(zipcode):\n",
    "    if str(zipcode)[0:2]=='97':\n",
    "        return 'Portland OR'\n",
    "    elif str(zipcode)[0:2]=='98':\n",
    "        return 'Vancouver WA'\n",
    " \n",
    "print school_g['zipcode'][0]\n",
    "print city(str(school_g['zipcode'][1]))\n",
    "#map(city, school_g['zipcode'])\n",
    "school_g['city'] = pd.DataFrame(map(city, school_g['zipcode']))\n",
    "school_g"
   ]
  },
  {
   "cell_type": "code",
   "execution_count": 44,
   "metadata": {
    "collapsed": false
   },
   "outputs": [
    {
     "data": {
      "text/plain": [
       "'98'"
      ]
     },
     "execution_count": 44,
     "metadata": {},
     "output_type": "execute_result"
    }
   ],
   "source": [
    "'98607'[0:2]"
   ]
  },
  {
   "cell_type": "code",
   "execution_count": 54,
   "metadata": {
    "collapsed": false
   },
   "outputs": [],
   "source": [
    "import os, csv\n",
    "with open(\"school.csv\", \"w\") as toWrite:\n",
    "    writer = csv.writer(toWrite, delimiter=\",\")\n",
    "    writer.writerow(school_g.keys())\n",
    "    for i in range(len(school_g)):\n",
    "        writer.writerow(school_g.values[i])"
   ]
  },
  {
   "cell_type": "code",
   "execution_count": null,
   "metadata": {
    "collapsed": false
   },
   "outputs": [],
   "source": []
  },
  {
   "cell_type": "code",
   "execution_count": null,
   "metadata": {
    "collapsed": false
   },
   "outputs": [],
   "source": []
  },
  {
   "cell_type": "code",
   "execution_count": null,
   "metadata": {
    "collapsed": false
   },
   "outputs": [],
   "source": []
  },
  {
   "cell_type": "code",
   "execution_count": null,
   "metadata": {
    "collapsed": true
   },
   "outputs": [],
   "source": []
  },
  {
   "cell_type": "code",
   "execution_count": null,
   "metadata": {
    "collapsed": true
   },
   "outputs": [],
   "source": []
  },
  {
   "cell_type": "code",
   "execution_count": null,
   "metadata": {
    "collapsed": true
   },
   "outputs": [],
   "source": []
  },
  {
   "cell_type": "code",
   "execution_count": null,
   "metadata": {
    "collapsed": true
   },
   "outputs": [],
   "source": []
  },
  {
   "cell_type": "code",
   "execution_count": null,
   "metadata": {
    "collapsed": true
   },
   "outputs": [],
   "source": []
  },
  {
   "cell_type": "code",
   "execution_count": null,
   "metadata": {
    "collapsed": true
   },
   "outputs": [],
   "source": []
  },
  {
   "cell_type": "code",
   "execution_count": null,
   "metadata": {
    "collapsed": true
   },
   "outputs": [],
   "source": []
  },
  {
   "cell_type": "code",
   "execution_count": null,
   "metadata": {
    "collapsed": true
   },
   "outputs": [],
   "source": []
  },
  {
   "cell_type": "code",
   "execution_count": null,
   "metadata": {
    "collapsed": true
   },
   "outputs": [],
   "source": []
  },
  {
   "cell_type": "code",
   "execution_count": null,
   "metadata": {
    "collapsed": true
   },
   "outputs": [],
   "source": []
  },
  {
   "cell_type": "code",
   "execution_count": null,
   "metadata": {
    "collapsed": true
   },
   "outputs": [],
   "source": []
  },
  {
   "cell_type": "code",
   "execution_count": null,
   "metadata": {
    "collapsed": true
   },
   "outputs": [],
   "source": []
  }
 ],
 "metadata": {
  "kernelspec": {
   "display_name": "Python 2",
   "language": "python",
   "name": "python2"
  },
  "language_info": {
   "codemirror_mode": {
    "name": "ipython",
    "version": 2
   },
   "file_extension": ".py",
   "mimetype": "text/x-python",
   "name": "python",
   "nbconvert_exporter": "python",
   "pygments_lexer": "ipython2",
   "version": "2.7.11"
  }
 },
 "nbformat": 4,
 "nbformat_minor": 0
}
