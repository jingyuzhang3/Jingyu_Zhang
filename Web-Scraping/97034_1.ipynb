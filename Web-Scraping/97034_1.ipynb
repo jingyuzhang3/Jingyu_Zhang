{
 "cells": [
  {
   "cell_type": "code",
   "execution_count": 1,
   "metadata": {
    "collapsed": false
   },
   "outputs": [
    {
     "name": "stderr",
     "output_type": "stream",
     "text": [
      "/Applications/anaconda/lib/python2.7/site-packages/bs4/__init__.py:166: UserWarning: No parser was explicitly specified, so I'm using the best available HTML parser for this system (\"lxml\"). This usually isn't a problem, but if you run this code on another system, or in a different virtual environment, it may use a different parser and behave differently.\n",
      "\n",
      "To get rid of this warning, change this:\n",
      "\n",
      " BeautifulSoup([your markup])\n",
      "\n",
      "to this:\n",
      "\n",
      " BeautifulSoup([your markup], \"lxml\")\n",
      "\n",
      "  markup_type=markup_type))\n"
     ]
    },
    {
     "name": "stdout",
     "output_type": "stream",
     "text": [
      "https://www.redfin.com/zipcode/97034/filter/include=sold-3yr,viewport=45.47757:45.41905:-122.6295:-122.70039/page-2\n",
      "https://www.redfin.com/zipcode/97034/filter/include=sold-3yr,viewport=45.47757:45.41905:-122.6295:-122.70039/page-3\n",
      "https://www.redfin.com/zipcode/97034/filter/include=sold-3yr,viewport=45.47757:45.41905:-122.6295:-122.70039/page-4\n",
      "https://www.redfin.com/zipcode/97034/filter/include=sold-3yr,viewport=45.47757:45.41905:-122.6295:-122.70039/page-5\n",
      "https://www.redfin.com/zipcode/97034/filter/include=sold-3yr,viewport=45.47757:45.41905:-122.6295:-122.70039/page-6\n",
      "https://www.redfin.com/zipcode/97034/filter/include=sold-3yr,viewport=45.47757:45.41905:-122.6295:-122.70039/page-7\n",
      "https://www.redfin.com/zipcode/97034/filter/include=sold-3yr,viewport=45.47757:45.41905:-122.6295:-122.70039/page-8\n",
      "https://www.redfin.com/zipcode/97034/filter/include=sold-3yr,viewport=45.47757:45.41905:-122.6295:-122.70039/page-9\n",
      "https://www.redfin.com/zipcode/97034/filter/include=sold-3yr,viewport=45.47757:45.41905:-122.6295:-122.70039/page-10\n"
     ]
    }
   ],
   "source": [
    "from selenium import webdriver\n",
    "from bs4 import BeautifulSoup\n",
    "from urllib2 import urlopen\n",
    "driver = webdriver.Chrome('/Users/jingyuzhang/Downloads/chromedriver')\n",
    "driver.implicitly_wait(10)\n",
    "\n",
    "link = 'https://www.redfin.com/zipcode/97034/filter/include=sold-3yr,viewport=45.47757:45.41905:-122.6295:-122.70039'\n",
    "\n",
    "\n",
    "\n",
    "\n",
    "\n",
    "page = driver.get(link)\n",
    "html = driver.page_source\n",
    "soup0 = BeautifulSoup(html)\n",
    "for i in range(2,11):\n",
    "    print (link + '/page-%d'%i)\n",
    "    page = driver.get(link + '/page-%d'%i)\n",
    "    html = driver.page_source\n",
    "    soup = BeautifulSoup(html)\n",
    "    soup0.append(soup)"
   ]
  },
  {
   "cell_type": "code",
   "execution_count": 4,
   "metadata": {
    "collapsed": false
   },
   "outputs": [
    {
     "name": "stdout",
     "output_type": "stream",
     "text": [
      "<class 'bs4.element.Doctype'>\n",
      "<class 'bs4.element.Tag'>\n",
      "<class 'bs4.BeautifulSoup'>\n",
      "<class 'bs4.BeautifulSoup'>\n",
      "<class 'bs4.BeautifulSoup'>\n",
      "<class 'bs4.BeautifulSoup'>\n",
      "<class 'bs4.BeautifulSoup'>\n",
      "<class 'bs4.BeautifulSoup'>\n",
      "<class 'bs4.BeautifulSoup'>\n",
      "<class 'bs4.BeautifulSoup'>\n",
      "<class 'bs4.BeautifulSoup'>\n"
     ]
    }
   ],
   "source": [
    "for item in soup0:\n",
    "    print type(item)"
   ]
  },
  {
   "cell_type": "code",
   "execution_count": 5,
   "metadata": {
    "collapsed": false
   },
   "outputs": [],
   "source": [
    "#for i in range(50):\n",
    "#    print \"%d %s\\n\" %(i,apt[i])"
   ]
  },
  {
   "cell_type": "code",
   "execution_count": 2,
   "metadata": {
    "collapsed": false
   },
   "outputs": [
    {
     "name": "stdout",
     "output_type": "stream",
     "text": [
      "477\n"
     ]
    }
   ],
   "source": [
    "#using list\n",
    "apt0 = []\n",
    "n_page = 10\n",
    "for n in range(1,n_page+1):\n",
    "    for i, tag in enumerate(list(soup0)[n].findAll('tr', {'class':'tableRow'})):\n",
    "        tag_dic = {\n",
    "            'address':tag.find('td', {'class':'col_address'}).text.encode('ascii', errors=\"ignore\"),\n",
    "            'location': tag.find('div', {'class':'location'}).text.encode('ascii', errors=\"ignore\"),\n",
    "            'price':tag.find('td', {'class':'col_price'}).text.encode('ascii', errors=\"ignore\"),\n",
    "            'beds':tag.find('td',{'class':'column column_4 col_beds'}).text.encode('ascii', errors=\"ignore\"),\n",
    "            'baths':tag.find('td',{'class':'column column_5 col_baths'}).text.encode('ascii', errors=\"ignore\"),\n",
    "            'sqft':tag.find('td',{'class':'column column_6 col_sqft'}).text.encode('ascii', errors=\"ignore\"),\n",
    "            '$sqft':tag.find('td',{'class':'column column_7 col_ppsqft'}).text.encode('ascii', errors=\"ignore\"),\n",
    "            'days':tag.find('td',{'class':'column column_8 col_days'}).text.encode('ascii', errors=\"ignore\")\n",
    "            }\n",
    "        apt0.append(tag_dic)\n",
    "print len(apt0)"
   ]
  },
  {
   "cell_type": "code",
   "execution_count": 3,
   "metadata": {
    "collapsed": false,
    "scrolled": false
   },
   "outputs": [
    {
     "name": "stdout",
     "output_type": "stream",
     "text": [
      "['beds', '$sqft', 'location', 'address', 'price', 'baths', 'sqft', 'days']\n",
      "['4', '$307', 'First Addition', '599 7th St', '$758,000', '3', '2,468', '253 days']\n"
     ]
    }
   ],
   "source": [
    "print apt0[120].keys()\n",
    "print apt0[120].values()"
   ]
  },
  {
   "cell_type": "code",
   "execution_count": 4,
   "metadata": {
    "collapsed": false
   },
   "outputs": [],
   "source": [
    "import os, csv\n",
    "with open(\"97034_1.csv\", \"w\") as toWrite:\n",
    "    writer = csv.writer(toWrite, delimiter=\",\")\n",
    "    writer.writerow(apt0[1].keys())\n",
    "    for i in range(len(apt0)):\n",
    "        writer.writerow(apt0[i].values())"
   ]
  },
  {
   "cell_type": "code",
   "execution_count": null,
   "metadata": {
    "collapsed": true
   },
   "outputs": [],
   "source": []
  },
  {
   "cell_type": "code",
   "execution_count": null,
   "metadata": {
    "collapsed": true
   },
   "outputs": [],
   "source": []
  },
  {
   "cell_type": "code",
   "execution_count": null,
   "metadata": {
    "collapsed": true
   },
   "outputs": [],
   "source": []
  },
  {
   "cell_type": "code",
   "execution_count": null,
   "metadata": {
    "collapsed": true
   },
   "outputs": [],
   "source": []
  },
  {
   "cell_type": "code",
   "execution_count": null,
   "metadata": {
    "collapsed": true
   },
   "outputs": [],
   "source": []
  },
  {
   "cell_type": "code",
   "execution_count": null,
   "metadata": {
    "collapsed": true
   },
   "outputs": [],
   "source": []
  },
  {
   "cell_type": "code",
   "execution_count": null,
   "metadata": {
    "collapsed": true
   },
   "outputs": [],
   "source": []
  },
  {
   "cell_type": "code",
   "execution_count": null,
   "metadata": {
    "collapsed": true
   },
   "outputs": [],
   "source": []
  }
 ],
 "metadata": {
  "kernelspec": {
   "display_name": "Python 2",
   "language": "python",
   "name": "python2"
  },
  "language_info": {
   "codemirror_mode": {
    "name": "ipython",
    "version": 2
   },
   "file_extension": ".py",
   "mimetype": "text/x-python",
   "name": "python",
   "nbconvert_exporter": "python",
   "pygments_lexer": "ipython2",
   "version": "2.7.11"
  }
 },
 "nbformat": 4,
 "nbformat_minor": 0
}
